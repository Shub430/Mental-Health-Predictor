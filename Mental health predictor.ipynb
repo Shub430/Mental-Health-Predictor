# Importing data

import pandas as pd

df=pd.read_csv("https://raw.githubusercontent.com/Shub430/Mental-Health-Predictor/main/survey(mental%20heath%20data).csv")

df

df.shape

### Total Number of columns in dataframe = 27

df.columns
